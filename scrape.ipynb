{
 "cells": [
  {
   "cell_type": "code",
   "execution_count": 74,
   "metadata": {
    "collapsed": true
   },
   "outputs": [],
   "source": [
    "import pandas as pd\n",
    "from selenium import webdriver\n",
    "from time import sleep\n",
    "from tqdm import tqdm"
   ]
  },
  {
   "cell_type": "code",
   "execution_count": 71,
   "metadata": {},
   "outputs": [
    {
     "name": "stdout",
     "output_type": "stream",
     "text": [
      "https://www.daraz.lk/products/select-by-daraz-skinny-fit-jean-for-women-i163339988-s1105936593.html?search=1\n",
      "https://www.daraz.lk/products/select-by-daraz-straight-fit-jean-for-men-i163331920-s1105916715.html?search=1\n",
      "https://www.daraz.lk/products/ladies-printed-denim-jeans-size-26-32-i106458604-s1014278155.html?search=1\n",
      "https://www.daraz.lk/products/made-in-indian-us-polo-men-denim-jeans-i177658944-s1138686463.html?search=1\n",
      "https://www.daraz.lk/products/slimn-lift-caresse-jeans-high-waist-slim-jegging-i119537070-s1033557082.html?search=1\n",
      "https://www.daraz.lk/products/valantine-fast-moving-branded-new-fashion-denim-pant-for-mens-i136619121-s1055068799.html?search=1\n",
      "https://www.daraz.lk/products/511-light-blue-denim-jeans-for-men-skinny-fit-i109192941-s1018012032.html?search=1\n",
      "https://www.daraz.lk/products/slim-n-lift-caresse-jeans-i101128765-s1006678192.html?search=1\n",
      "https://www.daraz.lk/products/testing-product-please-ignorejeans-i113348925-s1024410211.html?search=1\n",
      "https://www.daraz.lk/products/gents-denim-trousers-i176952977-s1137127962.html?search=1\n",
      "https://www.daraz.lk/products/511-denim-jeans-for-men-skinny-fit-i106316839-s1024518802.html?search=1\n",
      "https://www.daraz.lk/products/us-polo-assn-mens-denim-slim-fit-mid-blue-i182803480-s1149065357.html?search=1\n",
      "https://www.daraz.lk/products/denim-jeans-men-straight-out-slim-fit-i180749761-s1144300956.html?search=1\n",
      "https://www.daraz.lk/products/amrican-eagal-indian-denim-jeans-i178628784-s1146061120.html?search=1\n",
      "https://www.daraz.lk/products/womens-slim-n-lift-jeans-blue-i119961309-s1034616200.html?search=1\n",
      "https://www.daraz.lk/products/denim-jeans-men-straight-out-slim-fit-i163215039-s1140988889.html?search=1\n",
      "https://www.daraz.lk/products/jeans-denim-dark-brown-i106430448-s1046837840.html?search=1\n",
      "https://www.daraz.lk/products/mens-slim-fit-blue-denim-jeans-i929711-s2805382.html?search=1\n",
      "https://www.daraz.lk/products/slimn-lift-womens-caresse-jeans-high-waist-slim-legging-i172453813-s1126709229.html?search=1\n",
      "https://www.daraz.lk/products/factory-slim-straight-cut-men-jeans-i136830686-s1055123866.html?search=1\n",
      "https://www.daraz.lk/products/510-factory-men-denim-trousers-slim-fit-straight-cut-denim-jeans-trousers-i137048744-s1055333661.html?search=1\n",
      "https://www.daraz.lk/products/women-slim-n-lift-jeans-black-jean-legging-new-fashion-female-high-quality-casual-jeans-pencil-pants-women-elastic-waist-high-waist-skinny-stretch-jeans-i101270933-s1006864280.html?search=1\n",
      "https://www.daraz.lk/products/mens-511-slim-fit-denim-i168324489-s1117479606.html?search=1\n",
      "https://www.daraz.lk/products/highwaist-ladies-denim-jeans-6-buttons-i162755920-s1146058407.html?search=1\n",
      "https://www.daraz.lk/products/factory-mom-jeans-i176543884-s1136162935.html?search=1\n",
      "https://www.daraz.lk/products/stylish-and-high-quality-fashionable-mens-denim-i122291212-s1039373405.html?search=1\n",
      "https://www.daraz.lk/products/slim-n-lift-22-to-32-one-size-stretchable-women-skinny-slimming-legging-caresse-slim-fit-shapewear-jeans-body-shaper-jegging-ladies-dummy-denim-trouser-i143425292-s1063599394.html?search=1\n",
      "https://www.daraz.lk/products/tommy-hilfegr-men-denim-jeans-i160013634-s1091731736.html?search=1\n",
      "https://www.daraz.lk/products/slim-and-lift-ladies-jeans-i101290627-s1006874873.html?search=1\n",
      "https://www.daraz.lk/products/ladies-denim-pant-i177321256-s1138069736.html?search=1\n",
      "https://www.daraz.lk/products/slim-n-lift-caresse-jeans-i101340252-s1006954345.html?search=1\n",
      "https://www.daraz.lk/products/bell-cut-ladies-jeans-i176546371-s1146061193.html?search=1\n",
      "https://www.daraz.lk/products/womens-skinny-fit-denim-jeans-i158648459-s1089750673.html?search=1\n",
      "https://www.daraz.lk/products/indian-gap-denim-jeans-men-fashion-colours-i178649896-s1146061140.html?search=1\n",
      "https://www.daraz.lk/products/womens-skinny-fit-denim-jeans-i173718518-s1129309846.html?search=1\n",
      "https://www.daraz.lk/products/ladies-printed-denim-jeans-size-26-32-i101938916-s1007880305.html?search=1\n",
      "https://www.daraz.lk/products/slim-n-lift-22-to-32-one-size-stretchable-women-skinny-slimming-legging-caresse-slim-fit-shapewear-jeans-body-shaper-jegging-ladies-dummy-denim-trouser-i143421546-s1063604215.html?search=1\n",
      "https://www.daraz.lk/products/slim-and-lift-ladies-jeans-black-i104690171-s1011619899.html?search=1\n",
      "https://www.daraz.lk/products/slimn-lift-caresse-jeans-high-waist-slim-jegging-i124529908-s1041536955.html?search=1\n",
      "https://www.daraz.lk/products/slim-n-lift-22-to-32-one-size-stretchable-women-skinny-slimming-legging-caresse-slim-fit-shapewear-jeans-body-shaper-jegging-ladies-dummy-denim-trouser-i179272581-s1140965885.html?search=1\n"
     ]
    }
   ],
   "source": [
    "name=[]\n",
    "price=[]\n",
    "\n",
    "driver = webdriver.Chrome('chromedriver')\n",
    "url = 'https://www.daraz.lk/catalog/?q=denim'\n",
    "driver.get(url)\n",
    "\n",
    "all_matches = driver.find_elements('xpath', '//div[@class=\"title--wFj93\"]//a')\n",
    "links = []\n",
    "\n",
    "for match in all_matches:\n",
    "    link = match.get_attribute('href')\n",
    "    print(link)\n",
    "    links.append(link)\n",
    "\n",
    "driver.quit()"
   ]
  },
  {
   "cell_type": "code",
   "execution_count": 75,
   "metadata": {},
   "outputs": [
    {
     "name": "stderr",
     "output_type": "stream",
     "text": [
      "100%|██████████| 40/40 [15:29<00:00, 23.24s/it]\n"
     ]
    }
   ],
   "source": [
    "reviews = []\n",
    "\n",
    "for link in tqdm(links):\n",
    "    driver = webdriver.Chrome('chromedriver')\n",
    "    driver.get(link)\n",
    "    driver.execute_script(\"window.scrollTo(0, 1500)\")\n",
    "    sleep(10)\n",
    "    all_matches = driver.find_elements('xpath', \"//div[@class='item-content']/div[@class='content']\")\n",
    "\n",
    "    for match in all_matches:\n",
    "        review = match.text\n",
    "        if review != '':\n",
    "            reviews.append(review)\n",
    "            # print(review)\n",
    "            # print('\\n\\n')\n",
    "\n",
    "    driver.quit()"
   ]
  },
  {
   "cell_type": "code",
   "execution_count": 76,
   "metadata": {},
   "outputs": [
    {
     "data": {
      "text/plain": [
       "['Quality products with reasonable price. very good jean thanks daraz',\n",
       " 'i ordered 3 pants mid blue colour but a trouser size is differant and colour also different. i want to change this',\n",
       " 'VERY FAST DELIVERY ❤️ VERY NICE PRODUCT 🥰 I LIKE IT VERY MICH 🖤',\n",
       " 'Good product 👍🏻',\n",
       " 'good product 🥰',\n",
       " 'Superb Collection \\nGood material and fits well\\nWorth for the price 🔥\\nRecommend 💯\\n#WIN',\n",
       " 'they fits well,fast shipping service,item accurate to description,highly recommend the seller',\n",
       " 'Fits perfectly. Good quality product',\n",
       " 'Fast delivery',\n",
       " '# Excellent product',\n",
       " 'Wow fast delivery and valuable product... Thanks your best costumer services............',\n",
       " 'its super',\n",
       " 'man hithuwa eka newei avith thiyenne.☹️',\n",
       " 'I got my jeans.\\n disappointed with quality',\n",
       " \"It's So nice ... thank you💙💙\",\n",
       " 'superb',\n",
       " 'very fast delivery and good product.(හැබැයි වොෂ් කරද්දි ඩයි නම් යනවා)',\n",
       " 'Excellent product . Perfect for me. Thanks a lot.',\n",
       " 'thanks',\n",
       " 'Super',\n",
       " 'very bad product.\\ntotally different with orderd product.\\nnever recommed for this product.\\nwaste money',\n",
       " 'very bad quality no recommend 😡😡',\n",
       " 'it was value for the prize..',\n",
       " 'not same quality no good',\n",
       " '🤥😕',\n",
       " 'good I love it🤩',\n",
       " 'Thank you daraz \\nProducts weren’t bad but\\nI ordered in 3 \\nAll three different from each',\n",
       " \"it was awesome\\nI didn't expect a quality product form a online sttlikr this...\\nThanks\",\n",
       " \"verry good product and it's verry well\",\n",
       " 'ගොඩාක් හොදයි',\n",
       " \"thief seller, he is not send displayed item and send another low quality one.don't recommend\",\n",
       " 'Pit 🌝❤️',\n",
       " 'Faded',\n",
       " 'I am Highly Disappointing your service\\nMy Oder is American Eagle Indian Denim but I get different brands denim\\nquality ok but size is not matching\\nDenims are not stragable \\nDelivery is very late not send the Oder on time poor response\\nI not Recommend',\n",
       " 'really good one love it. good quality size is perfect. I would recommend people to purchase from here.',\n",
       " \"It's not worth the money\\nEven the brand also different.🤧\",\n",
       " 'too late',\n",
       " 'Advertized as American eagle.  Recieved a different one.  Returned it.',\n",
       " 'මට හම්බ වුනේ ඩැමේජ් වෙච්ච එකක්.හොදට පැක් කරලා ෆාස්ට් ඩිලිවරි හම්බුනා. ඒත් වැඩක් නෑනෙ. මන් ඕඩර් කලේ 4xl ඒත් ආවෙ m වගේ ඔය කළු පාටින් තියෙන්නේ 4xl leggings එකක්. ඒකත් එක්ක බලන කොට මේක පොඩි ළමයෙක්ට හොදයි. ඉස්සරහ නූල් ඇදිලා. 😡😡',\n",
       " \"very very cheap quality please don't buy this.  very bad product.\",\n",
       " 'It’s too cheap . Ugly looking item . Don’t buy this',\n",
       " 'I want return my order',\n",
       " 'It very small.',\n",
       " \"It wasn't a Tommy Hilfiger. Just a normal locally made diesel trouse with very low quality. This advertisement is misleading people.\",\n",
       " 'I have ordered dark brown. But received blue. Am disappointed. Your service.',\n",
       " 'super',\n",
       " 'it is too big for my husband and ..its not slim fit at all..it is like a regular..i want to return it..please tell me how?',\n",
       " 'material is not good',\n",
       " \"it's cool, worth it\",\n",
       " \"Good quality, but does't fit UK Size 12/14\",\n",
       " 'High Quality, Very Smooth material and full denim was in elastic material. Nice Color and Good Design.',\n",
       " 'Really good material and I love it',\n",
       " 'good quality.thank you',\n",
       " 'Thanks received the order in time according to the request...',\n",
       " \"It's  good product. Just as seller described. Go for it\",\n",
       " 'just absolute puke product..\\nafter a single wash stitches torn...\\nnot even capable to hold a single wash....\\ndefinitely a fake....\\ndont encourage this seller...',\n",
       " 'Received this Junk ! \\nNot the item described 🤷\\u200d♂️\\n\\nVery Bad service! \\nYou cant be sure what you will receive \\n\\nAnd seller doesn’t reply after receiving wrong items too only reading messages',\n",
       " 'Good quality product.Received exactly the same item order.Genuine supplier my second purchase.Thank you',\n",
       " 'Really good material. And same as described. And very fast delivery',\n",
       " 'Order karapu brand ekka newei maru karanna one.daraz bad supplier',\n",
       " 'received quickly. good quality. but the size s not enough. its not free size i tnk is small..',\n",
       " \"it's very small and extra peice joint on middle. can't where this leggine.\",\n",
       " 'meka blue ...',\n",
       " 'Niceeeee',\n",
       " \"It's very nice. I like it.👍Tnx for daraz💜\",\n",
       " \"Thanks a lot  because I received trouser...it's high quality & very fashionable.daraz & seller..💪💪💪🙏🙏🙏🙏💪💪\",\n",
       " 'good',\n",
       " 'Wow! Amazing colors 😍 I loved it fast delivery and also nice packing 👍🏻 material was so good 😊 I didn’t expect this thank you Daraz ❤️',\n",
       " 'i ordered light blue color  but i getting  dark blue clour denim very disappointed  😑',\n",
       " 'Thanks. quality and fast delivery',\n",
       " 'Your trouser is superb. Very good service and fast delevery. thank you very much seller.',\n",
       " 'Good product. Love it.Thank you seller.❤️❤️❤️',\n",
       " 'fast shipping , quality ok',\n",
       " 'Rs.1300/= for just a printed chinese legging. 😑😶',\n",
       " 'Adumanam hodai eth mata eke size madi',\n",
       " 'Good product \\nquick delivery',\n",
       " 'good good good no comments',\n",
       " 'its good quality.',\n",
       " 'The seller sent me a Diesel trouser instead of a Tommy Hilfiger trouser.\\nHowever it was of same colour and size, and fits perfectly well.\\nFor the price it’s a great deal.',\n",
       " 'Worst product ever. and the product is not what i was requested',\n",
       " 'good product 👍',\n",
       " 'Thank you.',\n",
       " \"I oder a blue  one  but u have send  me black .but If I need  to exchange  I mast pay. it's  unfair & not  wethiya .\",\n",
       " 'Excellent fitting, but material is very thin. Good service',\n",
       " 'I ordered blue jeans. But got the black jeans. 😩😩😩',\n",
       " 'very good product',\n",
       " 'good one',\n",
       " 'මට ආවෙ size 34 ඉල්ලපු එකට size 28 ඉන වගෙ ඩෙනිම් එකක් කරුණාකර මට නැවතත් එය මාරු කිරිමට අවශ්\\u200dයයි .',\n",
       " 'මම order කරපු එක නෙමෙයි ලැබුණේ . මම blue colour එක order කරත් මට එවලා තිබ්බෙ black colour එකක් .',\n",
       " 'Wow! Amazing colors 😍 I loved it fast delivery and also nice packing 👍🏻 material was so good 😊 I didn’t expect this. Thank you so much Daraz ❤️',\n",
       " 'Beautiful pair of jeans. Well stiched. Not original Levis though but worth for the price. Good product.',\n",
       " 'It’s not genuine brand. Wrong measurements. Item returned. Cash refunded',\n",
       " 'Excellent seller, very prompt and quality product .',\n",
       " 'highly recommended .love it❤❤',\n",
       " \"I'm very disappointed. Very cheap stuff. I will never order items from this seller agan\",\n",
       " \"it's sutabale for me very much,,thnx\",\n",
       " 'Wedakane ganna epa oka boruwaka',\n",
       " 'good service  &very fast👍👌👍🌹',\n",
       " 'good',\n",
       " 'Thanks for daraz and sellars... Worth of money.\\nFast delivery.. Thanks for all',\n",
       " 'wedak Ganna bee',\n",
       " 'ගන්න හැමොටම කියන්නෙ මෙක ඩෙනිම් නෙමේ . අනික අදින්නත් බැ හිරයි☹️☹️☹️☹️☹️☹️',\n",
       " 'look at this 😂...don be a lier',\n",
       " 'This not Blue',\n",
       " 'It was not represented in the photo. The fabric is so thin. Not recommended',\n",
       " 'Beautiful design and good quality product. On time delivery.',\n",
       " \"don't buy this... within one day came wools out.not comfortable.just waist the money... the worst thing I bought through daraz 😖\",\n",
       " 'This looks like a denim..but feels like undergarment... unworthy for money',\n",
       " 'it is very comfortable and fits perfectly',\n",
       " 'aiyoo wadakne']"
      ]
     },
     "execution_count": 76,
     "metadata": {},
     "output_type": "execute_result"
    }
   ],
   "source": [
    "reviews"
   ]
  },
  {
   "cell_type": "code",
   "execution_count": 77,
   "metadata": {},
   "outputs": [],
   "source": [
    "df = pd.DataFrame({'review': reviews})"
   ]
  },
  {
   "cell_type": "code",
   "execution_count": 78,
   "metadata": {},
   "outputs": [],
   "source": [
    "df[\"sentiment\"] = \"\""
   ]
  },
  {
   "cell_type": "code",
   "execution_count": 79,
   "metadata": {},
   "outputs": [],
   "source": [
    "df.to_excel(\"dataset-denim.xlsx\", index=False)"
   ]
  },
  {
   "cell_type": "code",
   "execution_count": 70,
   "metadata": {},
   "outputs": [],
   "source": []
  }
 ],
 "metadata": {
  "kernelspec": {
   "display_name": "Python 3 (ipykernel)",
   "language": "python",
   "name": "python3"
  },
  "language_info": {
   "codemirror_mode": {
    "name": "ipython",
    "version": 3
   },
   "file_extension": ".py",
   "mimetype": "text/x-python",
   "name": "python",
   "nbconvert_exporter": "python",
   "pygments_lexer": "ipython3",
   "version": "3.9.13"
  }
 },
 "nbformat": 4,
 "nbformat_minor": 1
}
